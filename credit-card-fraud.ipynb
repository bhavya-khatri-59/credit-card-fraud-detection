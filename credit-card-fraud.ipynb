import pandas as pd
import numpy as np
import matplotlib.pyplot as plt
import seaborn as sns
from sklearn.model_selection import train_test_split
from sklearn.ensemble import RandomForestClassifier
from sklearn.metrics import accuracy_score, precision_score, recall_score, ConfusionMatrixDisplay
from sklearn.preprocessing import StandardScaler

# Load dataset
data = pd.read_csv('creditcard.csv')

# Take a smaller random fraction of the data (e.g., 5%)
data = data.sample(frac=0.05, random_state=42)

# Separate features and target
X = data.drop(columns=['Class'])
y = data['Class']

# Normalize the features
scaler = StandardScaler()
X_scaled = scaler.fit_transform(X)

# Split data into training and testing sets
X_train, X_test, y_train, y_test = train_test_split(X_scaled, y, test_size=0.2, random_state=42, stratify=y)

# Train a RandomForest Classifier
model = RandomForestClassifier(random_state=42)
model.fit(X_train, y_train)

# Make predictions
y_pred = model.predict(X_test)

# Evaluate performance
accuracy = accuracy_score(y_test, y_pred)
precision = precision_score(y_test, y_pred, average='binary', zero_division=0)
recall = recall_score(y_test, y_pred, average='binary', zero_division=0)

print(f"Accuracy: {accuracy:.4f}")
print(f"Precision: {precision:.4f}")
print(f"Recall: {recall:.4f}")

# Visualization
plt.figure(figsize=(12, 6))

plt.subplot(1, 2, 1)
sns.countplot(x='Class', data=data)
plt.title('Class Distribution')

plt.subplot(1, 2, 2)
ConfusionMatrixDisplay.from_estimator(model, X_test, y_test, ax=plt.gca(), cmap='Blues')
plt.title('Confusion Matrix')

plt.tight_layout()
plt.show()
